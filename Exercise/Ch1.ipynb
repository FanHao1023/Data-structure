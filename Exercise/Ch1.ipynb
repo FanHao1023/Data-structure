{
 "cells": [
  {
   "cell_type": "markdown",
   "metadata": {
    "id": "QvapVWPoW88y"
   },
   "source": [
    "# Exercise 1"
   ]
  },
  {
   "cell_type": "markdown",
   "metadata": {
    "id": "z-rQC77mXHJ3"
   },
   "source": [
    "### (1) Which of the following term describes the \"has a\" relationship between two classes?"
   ]
  },
  {
   "cell_type": "markdown",
   "metadata": {
    "id": "VMJaaLylXaWm"
   },
   "source": [
    "(A) Composition\n",
    "\n",
    "(B) Inheritance\n",
    "\n",
    "(C) Polymorphism\n",
    "\n",
    "(D) Encapsulation"
   ]
  },
  {
   "cell_type": "markdown",
   "metadata": {},
   "source": [
    "> Ans: *Double click to answer the question*"
   ]
  },
  {
   "cell_type": "markdown",
   "metadata": {},
   "source": [
    "### (2) Which of the following term describes the \"is a\" relationship between two classes?"
   ]
  },
  {
   "cell_type": "markdown",
   "metadata": {},
   "source": [
    "(A) Composition\n",
    "\n",
    "(B) Inheritance\n",
    "\n",
    "(C) Polymorphism\n",
    "\n",
    "(D) Encapsulation"
   ]
  },
  {
   "cell_type": "markdown",
   "metadata": {},
   "source": [
    "> Ans: *Double click to answer the question*"
   ]
  },
  {
   "cell_type": "markdown",
   "metadata": {},
   "source": [
    "### (3) What makes a data type categorized as an atomic data type?\n",
    "\n",
    "(A) It must be mutable so that it can change at any time.\n",
    "\n",
    "(B) Its memory size cannot be too big, relating to how atoms are naturally very small.\n",
    "\n",
    "(C) It must be statically allocated so it cannot change in size.\n",
    "\n",
    "(D) It cannot be broken down any smaller while still being easily operable."
   ]
  },
  {
   "cell_type": "markdown",
   "metadata": {},
   "source": [
    "> Ans: *Double click to answer the question*"
   ]
  },
  {
   "cell_type": "markdown",
   "metadata": {},
   "source": [
    "### (4) The specification of an ADT's operations indicate?\n",
    "\n",
    "(A) What the operations do.\n",
    "\n",
    "(B) How to implement the operations.\n",
    "\n",
    "(C) How to store the data in the ADT\n",
    "\n",
    "(d) How to carray out the operations"
   ]
  },
  {
   "cell_type": "markdown",
   "metadata": {},
   "source": [
    "> Ans: *Double click to answer the question*"
   ]
  },
  {
   "cell_type": "markdown",
   "metadata": {},
   "source": [
    "### (5-1) How do I raise 4 to 5th power in C++?\n",
    "\n",
    "(A) ``4**5``\n",
    "\n",
    "(B) ``5**4``\n",
    "\n",
    "(C) ``4^5``\n",
    "\n",
    "(D) ``pow(4, 5)``"
   ]
  },
  {
   "cell_type": "markdown",
   "metadata": {},
   "source": [
    "> Ans: *Double click to answer the question*"
   ]
  },
  {
   "cell_type": "markdown",
   "metadata": {},
   "source": [
    "### (5-2) How do I raise 4 to 5th power in Python?\n",
    "\n",
    "(A) ``4**5``\n",
    "\n",
    "(B) ``5**4``\n",
    "\n",
    "(C) ``4^5``\n",
    "\n",
    "(D) ``pow(4, 5)``"
   ]
  },
  {
   "cell_type": "markdown",
   "metadata": {},
   "source": [
    "> Ans: *Double click to answer the question*"
   ]
  },
  {
   "cell_type": "markdown",
   "metadata": {},
   "source": [
    "### (6) What is \"Abstraction\" and What is \"Encapsulation\""
   ]
  },
  {
   "cell_type": "markdown",
   "metadata": {},
   "source": [
    "> Ans: *Double click to answer the question*"
   ]
  }
 ],
 "metadata": {
  "colab": {
   "authorship_tag": "ABX9TyM05PvnQCNZRcQoGrec0tth",
   "provenance": []
  },
  "kernelspec": {
   "display_name": "Python 3 (ipykernel)",
   "language": "python",
   "name": "python3"
  },
  "language_info": {
   "codemirror_mode": {
    "name": "ipython",
    "version": 3
   },
   "file_extension": ".py",
   "mimetype": "text/x-python",
   "name": "python",
   "nbconvert_exporter": "python",
   "pygments_lexer": "ipython3",
   "version": "3.11.5"
  },
  "toc": {
   "base_numbering": 1,
   "nav_menu": {},
   "number_sections": true,
   "sideBar": true,
   "skip_h1_title": false,
   "title_cell": "Table of Contents",
   "title_sidebar": "Contents",
   "toc_cell": false,
   "toc_position": {},
   "toc_section_display": true,
   "toc_window_display": false
  },
  "varInspector": {
   "cols": {
    "lenName": 16,
    "lenType": 16,
    "lenVar": 40
   },
   "kernels_config": {
    "python": {
     "delete_cmd_postfix": "",
     "delete_cmd_prefix": "del ",
     "library": "var_list.py",
     "varRefreshCmd": "print(var_dic_list())"
    },
    "r": {
     "delete_cmd_postfix": ") ",
     "delete_cmd_prefix": "rm(",
     "library": "var_list.r",
     "varRefreshCmd": "cat(var_dic_list()) "
    }
   },
   "types_to_exclude": [
    "module",
    "function",
    "builtin_function_or_method",
    "instance",
    "_Feature"
   ],
   "window_display": false
  }
 },
 "nbformat": 4,
 "nbformat_minor": 1
}
