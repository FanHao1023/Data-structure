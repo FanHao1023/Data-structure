{
 "cells": [
  {
   "cell_type": "markdown",
   "metadata": {
    "id": "QvapVWPoW88y"
   },
   "source": [
    "# Exercise 4"
   ]
  },
  {
   "cell_type": "markdown",
   "metadata": {
    "id": "z-rQC77mXHJ3"
   },
   "source": [
    "### (1) A linked list is a good structure candidate for a list because:"
   ]
  },
  {
   "cell_type": "markdown",
   "metadata": {
    "id": "VMJaaLylXaWm"
   },
   "source": [
    "(A) It does not use much memory space.\n",
    "\n",
    "(B) It is fast to traverse.\n",
    "\n",
    "(C) Its implementation can be easily translated into machine code.\n",
    "\n",
    "(D) Data are easily inserted or deleted anywhere in the list."
   ]
  },
  {
   "cell_type": "markdown",
   "metadata": {},
   "source": [
    "> Ans: *Double click to answer the question*"
   ]
  },
  {
   "cell_type": "markdown",
   "metadata": {},
   "source": [
    "### (2) In a linked list, each element(node) contains _______\n",
    "\n",
    "(A) only data\n",
    "\n",
    "(B) data and reference (pointer)\n",
    "\n",
    "(C) only reference (pointer)\n",
    "\n",
    "(D) None of above"
   ]
  },
  {
   "cell_type": "markdown",
   "metadata": {},
   "source": [
    "> Ans: *Double click to answer the question*"
   ]
  },
  {
   "cell_type": "markdown",
   "metadata": {},
   "source": [
    "### (3) Select the correct statement below."
   ]
  },
  {
   "cell_type": "markdown",
   "metadata": {},
   "source": [
    "(A) Every Node is contained within the `UnorderedList` class object. Making access to every Node of the linked list possible.\n",
    "\n",
    "(B) Every Node in the linked list is exactly one space in memory away from the next. Making it possible to find the next Node and traverse through the list.\n",
    "\n",
    "(C) Every Node in the list is in various locations in memory, and those memory addresses are stored in an array inside of the `UnorderedList` object, which makes accessing each Node possible.\n",
    "\n",
    "(D) Every Node in the list is in various locations in memory, and each Node contains a reference to the next Node in the list without needing to be contained in the `UnorderedList` class."
   ]
  },
  {
   "cell_type": "markdown",
   "metadata": {},
   "source": [
    "> Ans: *Double click to answer the question*"
   ]
  },
  {
   "cell_type": "markdown",
   "metadata": {},
   "source": [
    "### (4-1) Which of the following indicates a list with one item?"
   ]
  },
  {
   "cell_type": "markdown",
   "metadata": {},
   "source": [
    "(A) `header != None`\n",
    "\n",
    "(B) `header == None`\n",
    "\n",
    "(C) `header != None and header.next == None`\n",
    "\n",
    "(D) `header != None and header.next != None and header.next.next != None`"
   ]
  },
  {
   "cell_type": "markdown",
   "metadata": {},
   "source": [
    "> Ans: *Double click to answer the question*"
   ]
  },
  {
   "cell_type": "markdown",
   "metadata": {},
   "source": [
    "### (4-2) Which of the following indicates a list with one item?"
   ]
  },
  {
   "cell_type": "markdown",
   "metadata": {},
   "source": [
    "(A) `header != NULL`\n",
    "\n",
    "(B) `header == NULL`\n",
    "\n",
    "(C) `header != NULL && header->getNext() ==NULL`\n",
    "\n",
    "(D) `header != NULL && header->getNext() != NULL && header->getNext()->getNext() != NULL`"
   ]
  },
  {
   "cell_type": "markdown",
   "metadata": {},
   "source": [
    "> Ans: *Double click to answer the question*"
   ]
  },
  {
   "cell_type": "markdown",
   "metadata": {},
   "source": [
    "### (5) What are the pros and cons of unorder and order linked list?"
   ]
  },
  {
   "cell_type": "markdown",
   "metadata": {},
   "source": [
    "> Ans: *Double click to answer the question*"
   ]
  },
  {
   "cell_type": "markdown",
   "metadata": {},
   "source": [
    "### (6) What is the pros and cons of normal linked list and doubly linked list?"
   ]
  },
  {
   "cell_type": "markdown",
   "metadata": {},
   "source": [
    "> Ans: *Double click to answer the question*"
   ]
  }
 ],
 "metadata": {
  "colab": {
   "authorship_tag": "ABX9TyM05PvnQCNZRcQoGrec0tth",
   "provenance": []
  },
  "kernelspec": {
   "display_name": "Python 3 (ipykernel)",
   "language": "python",
   "name": "python3"
  },
  "language_info": {
   "codemirror_mode": {
    "name": "ipython",
    "version": 3
   },
   "file_extension": ".py",
   "mimetype": "text/x-python",
   "name": "python",
   "nbconvert_exporter": "python",
   "pygments_lexer": "ipython3",
   "version": "3.11.5"
  },
  "toc": {
   "base_numbering": 1,
   "nav_menu": {},
   "number_sections": true,
   "sideBar": true,
   "skip_h1_title": false,
   "title_cell": "Table of Contents",
   "title_sidebar": "Contents",
   "toc_cell": false,
   "toc_position": {},
   "toc_section_display": true,
   "toc_window_display": false
  },
  "varInspector": {
   "cols": {
    "lenName": 16,
    "lenType": 16,
    "lenVar": 40
   },
   "kernels_config": {
    "python": {
     "delete_cmd_postfix": "",
     "delete_cmd_prefix": "del ",
     "library": "var_list.py",
     "varRefreshCmd": "print(var_dic_list())"
    },
    "r": {
     "delete_cmd_postfix": ") ",
     "delete_cmd_prefix": "rm(",
     "library": "var_list.r",
     "varRefreshCmd": "cat(var_dic_list()) "
    }
   },
   "types_to_exclude": [
    "module",
    "function",
    "builtin_function_or_method",
    "instance",
    "_Feature"
   ],
   "window_display": false
  }
 },
 "nbformat": 4,
 "nbformat_minor": 1
}
